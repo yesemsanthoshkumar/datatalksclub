{
 "cells": [
  {
   "cell_type": "code",
   "execution_count": 300,
   "id": "be838a46",
   "metadata": {},
   "outputs": [
    {
     "name": "stdout",
     "output_type": "stream",
     "text": [
      "--2023-09-25 22:12:10--  https://raw.githubusercontent.com/alexeygrigorev/datasets/master/housing.csv\n",
      "Resolving raw.githubusercontent.com (raw.githubusercontent.com)... failed: nodename nor servname provided, or not known.\n",
      "wget: unable to resolve host address ‘raw.githubusercontent.com’\n"
     ]
    }
   ],
   "source": [
    "! wget https://raw.githubusercontent.com/alexeygrigorev/datasets/master/housing.csv"
   ]
  },
  {
   "cell_type": "code",
   "execution_count": 301,
   "id": "43ae60fd",
   "metadata": {},
   "outputs": [],
   "source": [
    "import pandas as pd\n",
    "import numpy as np\n",
    "import seaborn as sns\n",
    "import matplotlib.pyplot as plt\n",
    "%matplotlib inline"
   ]
  },
  {
   "cell_type": "code",
   "execution_count": 302,
   "id": "b34df461",
   "metadata": {},
   "outputs": [],
   "source": [
    "df = pd.read_csv(\"housing.csv\")"
   ]
  },
  {
   "cell_type": "code",
   "execution_count": 303,
   "id": "e78b9d03",
   "metadata": {},
   "outputs": [
    {
     "name": "stderr",
     "output_type": "stream",
     "text": [
      "/opt/homebrew/Caskroom/miniconda/base/envs/zoomcamp/lib/python3.11/site-packages/seaborn/_oldcore.py:1498: FutureWarning: is_categorical_dtype is deprecated and will be removed in a future version. Use isinstance(dtype, CategoricalDtype) instead\n",
      "  if pd.api.types.is_categorical_dtype(vector):\n",
      "/opt/homebrew/Caskroom/miniconda/base/envs/zoomcamp/lib/python3.11/site-packages/seaborn/_oldcore.py:1119: FutureWarning: use_inf_as_na option is deprecated and will be removed in a future version. Convert inf values to NaN before operating instead.\n",
      "  with pd.option_context('mode.use_inf_as_na', True):\n"
     ]
    },
    {
     "data": {
      "text/plain": [
       "<Axes: xlabel='median_house_value', ylabel='Count'>"
      ]
     },
     "execution_count": 303,
     "metadata": {},
     "output_type": "execute_result"
    },
    {
     "data": {
      "image/png": "[encoded data removed]",
      "text/plain": [
       "<Figure size 640x480 with 1 Axes>"
      ]
     },
     "metadata": {},
     "output_type": "display_data"
    }
   ],
   "source": [
    "sns.histplot(df[\"median_house_value\"], bins=50)"
   ]
  },
  {
   "cell_type": "markdown",
   "id": "0d76e7cc",
   "metadata": {},
   "source": [
    "median_house_value has tail"
   ]
  },
  {
   "cell_type": "code",
   "execution_count": 304,
   "id": "66c09e75",
   "metadata": {},
   "outputs": [
    {
     "data": {
      "text/plain": [
       "ocean_proximity\n",
       "<1H OCEAN     9136\n",
       "INLAND        6551\n",
       "NEAR OCEAN    2658\n",
       "NEAR BAY      2290\n",
       "ISLAND           5\n",
       "Name: count, dtype: int64"
      ]
     },
     "execution_count": 304,
     "metadata": {},
     "output_type": "execute_result"
    }
   ],
   "source": [
    "df['ocean_proximity'].value_counts()"
   ]
  },
  {
   "cell_type": "code",
   "execution_count": 305,
   "id": "c08aaf2d",
   "metadata": {},
   "outputs": [],
   "source": [
    "columns = [\n",
    "'latitude',\n",
    "'longitude',\n",
    "'housing_median_age',\n",
    "'total_rooms',\n",
    "'total_bedrooms',\n",
    "'population',\n",
    "'households',\n",
    "'median_income',\n",
    "'median_house_value'\n",
    "]"
   ]
  },
  {
   "cell_type": "code",
   "execution_count": 306,
   "id": "a58b4e2c",
   "metadata": {},
   "outputs": [],
   "source": [
    "df = df.loc[df['ocean_proximity'].isin(['<1H OCEAN', 'INLAND'])][columns].reset_index(drop=True)"
   ]
  },
  {
   "cell_type": "markdown",
   "id": "2165fec6",
   "metadata": {},
   "source": [
    "## Question 1\n",
    "There's one feature with missing values. What is it?\n",
    "\n",
    "    total_rooms\n",
    "    total_bedrooms\n",
    "    population\n",
    "    households"
   ]
  },
  {
   "cell_type": "code",
   "execution_count": 307,
   "id": "099983ca",
   "metadata": {},
   "outputs": [
    {
     "data": {
      "text/plain": [
       "latitude                0\n",
       "longitude               0\n",
       "housing_median_age      0\n",
       "total_rooms             0\n",
       "total_bedrooms        157\n",
       "population              0\n",
       "households              0\n",
       "median_income           0\n",
       "median_house_value      0\n",
       "dtype: int64"
      ]
     },
     "execution_count": 307,
     "metadata": {},
     "output_type": "execute_result"
    }
   ],
   "source": [
    "df.isna().sum()"
   ]
  },
  {
   "cell_type": "markdown",
   "id": "1f5ed67d",
   "metadata": {},
   "source": [
    "**Answer:** total_bedrooms"
   ]
  },
  {
   "cell_type": "markdown",
   "id": "341c4444",
   "metadata": {},
   "source": [
    "## Question 2\n",
    "What's the median (50% percentile) for variable 'population'?\n",
    "\n",
    "    995\n",
    "    1095\n",
    "    1195\n",
    "    1295"
   ]
  },
  {
   "cell_type": "code",
   "execution_count": 308,
   "id": "6c509f01",
   "metadata": {},
   "outputs": [
    {
     "data": {
      "text/plain": [
       "1195.0"
      ]
     },
     "execution_count": 308,
     "metadata": {},
     "output_type": "execute_result"
    }
   ],
   "source": [
    "df['population'].median()"
   ]
  },
  {
   "cell_type": "markdown",
   "id": "183be0b2",
   "metadata": {},
   "source": [
    "**Answer**: 1195"
   ]
  },
  {
   "cell_type": "markdown",
   "id": "57cc91f4",
   "metadata": {},
   "source": [
    "1. Prepare and split the dataset\n",
    "2. Shuffle the dataset (the filtered one you created above), use seed 42.\n",
    "3. Split your data in train/val/test sets, with 60%/20%/20% distribution.\n",
    "4. Apply the log transformation to the median_house_value variable using the np.log1p() function."
   ]
  },
  {
   "cell_type": "code",
   "execution_count": 309,
   "id": "16097e95",
   "metadata": {},
   "outputs": [],
   "source": [
    "np.random.seed(42)"
   ]
  },
  {
   "cell_type": "code",
   "execution_count": 310,
   "id": "16b26672",
   "metadata": {},
   "outputs": [],
   "source": [
    "n = len(df)\n",
    "\n",
    "n_val = int(0.2 * n)\n",
    "n_test = int(0.2 * n)\n",
    "n_train = n - (n_val + n_test)"
   ]
  },
  {
   "cell_type": "code",
   "execution_count": 311,
   "id": "89500cd0",
   "metadata": {},
   "outputs": [
    {
     "data": {
      "text/plain": [
       "count     15687.000000\n",
       "mean     191943.020017\n",
       "std      108801.077620\n",
       "min       14999.000000\n",
       "25%      111300.000000\n",
       "50%      166900.000000\n",
       "75%      241100.000000\n",
       "max      500001.000000\n",
       "Name: median_house_value, dtype: float64"
      ]
     },
     "execution_count": 311,
     "metadata": {},
     "output_type": "execute_result"
    }
   ],
   "source": [
    "df.median_house_value.describe()"
   ]
  },
  {
   "cell_type": "code",
   "execution_count": 312,
   "id": "18ca0ea7",
   "metadata": {},
   "outputs": [],
   "source": [
    "df['median_house_value'] = np.log1p(df['median_house_value'])"
   ]
  },
  {
   "cell_type": "code",
   "execution_count": 313,
   "id": "4b00b94e",
   "metadata": {},
   "outputs": [
    {
     "data": {
      "text/plain": [
       "count    15687.000000\n",
       "mean        12.010342\n",
       "std          0.564962\n",
       "min          9.615805\n",
       "25%         11.619994\n",
       "50%         12.025156\n",
       "75%         12.392971\n",
       "max         13.122367\n",
       "Name: median_house_value, dtype: float64"
      ]
     },
     "execution_count": 313,
     "metadata": {},
     "output_type": "execute_result"
    }
   ],
   "source": [
    "df.median_house_value.describe()"
   ]
  },
  {
   "cell_type": "code",
   "execution_count": 314,
   "id": "d86d125e",
   "metadata": {},
   "outputs": [],
   "source": [
    "idx = np.arange(n)\n",
    "np.random.shuffle(idx)\n",
    "\n",
    "df_shuffled = df.iloc[idx]"
   ]
  },
  {
   "cell_type": "code",
   "execution_count": 315,
   "id": "22d23b53",
   "metadata": {},
   "outputs": [
    {
     "data": {
      "text/plain": [
       "array([15183,  4469,  9316, ...,  5390,   860,  7270])"
      ]
     },
     "execution_count": 315,
     "metadata": {},
     "output_type": "execute_result"
    }
   ],
   "source": [
    "idx"
   ]
  },
  {
   "cell_type": "code",
   "execution_count": 316,
   "id": "75ef6e73",
   "metadata": {
    "scrolled": true
   },
   "outputs": [
    {
     "data": {
      "text/html": [
       "<div>\n",
       "<style scoped>\n",
       "    .dataframe tbody tr th:only-of-type {\n",
       "        vertical-align: middle;\n",
       "    }\n",
       "\n",
       "    .dataframe tbody tr th {\n",
       "        vertical-align: top;\n",
       "    }\n",
       "\n",
       "    .dataframe thead th {\n",
       "        text-align: right;\n",
       "    }\n",
       "</style>\n",
       "<table border=\"1\" class=\"dataframe\">\n",
       "  <thead>\n",
       "    <tr style=\"text-align: right;\">\n",
       "      <th></th>\n",
       "      <th>latitude</th>\n",
       "      <th>longitude</th>\n",
       "      <th>housing_median_age</th>\n",
       "      <th>total_rooms</th>\n",
       "      <th>total_bedrooms</th>\n",
       "      <th>population</th>\n",
       "      <th>households</th>\n",
       "      <th>median_income</th>\n",
       "      <th>median_house_value</th>\n",
       "    </tr>\n",
       "  </thead>\n",
       "  <tbody>\n",
       "    <tr>\n",
       "      <th>15183</th>\n",
       "      <td>36.23</td>\n",
       "      <td>-119.14</td>\n",
       "      <td>22.0</td>\n",
       "      <td>2935.0</td>\n",
       "      <td>523.0</td>\n",
       "      <td>1927.0</td>\n",
       "      <td>530.0</td>\n",
       "      <td>2.5875</td>\n",
       "      <td>11.161963</td>\n",
       "    </tr>\n",
       "    <tr>\n",
       "      <th>4469</th>\n",
       "      <td>34.12</td>\n",
       "      <td>-117.79</td>\n",
       "      <td>16.0</td>\n",
       "      <td>2426.0</td>\n",
       "      <td>426.0</td>\n",
       "      <td>1319.0</td>\n",
       "      <td>446.0</td>\n",
       "      <td>4.8125</td>\n",
       "      <td>12.321635</td>\n",
       "    </tr>\n",
       "    <tr>\n",
       "      <th>9316</th>\n",
       "      <td>33.68</td>\n",
       "      <td>-117.97</td>\n",
       "      <td>26.0</td>\n",
       "      <td>3653.0</td>\n",
       "      <td>568.0</td>\n",
       "      <td>1930.0</td>\n",
       "      <td>585.0</td>\n",
       "      <td>5.7301</td>\n",
       "      <td>12.471896</td>\n",
       "    </tr>\n",
       "    <tr>\n",
       "      <th>4983</th>\n",
       "      <td>34.10</td>\n",
       "      <td>-118.03</td>\n",
       "      <td>32.0</td>\n",
       "      <td>2668.0</td>\n",
       "      <td>609.0</td>\n",
       "      <td>1512.0</td>\n",
       "      <td>541.0</td>\n",
       "      <td>2.9422</td>\n",
       "      <td>12.359227</td>\n",
       "    </tr>\n",
       "    <tr>\n",
       "      <th>13154</th>\n",
       "      <td>37.34</td>\n",
       "      <td>-121.87</td>\n",
       "      <td>39.0</td>\n",
       "      <td>2479.0</td>\n",
       "      <td>541.0</td>\n",
       "      <td>1990.0</td>\n",
       "      <td>506.0</td>\n",
       "      <td>2.4306</td>\n",
       "      <td>12.574531</td>\n",
       "    </tr>\n",
       "  </tbody>\n",
       "</table>\n",
       "</div>"
      ],
      "text/plain": [
       "       latitude  longitude  housing_median_age  total_rooms  total_bedrooms  \\\n",
       "15183     36.23    -119.14                22.0       2935.0           523.0   \n",
       "4469      34.12    -117.79                16.0       2426.0           426.0   \n",
       "9316      33.68    -117.97                26.0       3653.0           568.0   \n",
       "4983      34.10    -118.03                32.0       2668.0           609.0   \n",
       "13154     37.34    -121.87                39.0       2479.0           541.0   \n",
       "\n",
       "       population  households  median_income  median_house_value  \n",
       "15183      1927.0       530.0         2.5875           11.161963  \n",
       "4469       1319.0       446.0         4.8125           12.321635  \n",
       "9316       1930.0       585.0         5.7301           12.471896  \n",
       "4983       1512.0       541.0         2.9422           12.359227  \n",
       "13154      1990.0       506.0         2.4306           12.574531  "
      ]
     },
     "execution_count": 316,
     "metadata": {},
     "output_type": "execute_result"
    }
   ],
   "source": [
    "df_shuffled.head()"
   ]
  },
  {
   "cell_type": "code",
   "execution_count": 317,
   "id": "2836f88e",
   "metadata": {},
   "outputs": [],
   "source": [
    "df_train = df_shuffled.iloc[:n_train].copy()\n",
    "df_val = df_shuffled.iloc[n_train:n_train+n_val].copy()\n",
    "df_test = df_shuffled.iloc[n_train+n_val:].copy()"
   ]
  },
  {
   "cell_type": "markdown",
   "id": "3dfc3550",
   "metadata": {},
   "source": [
    "### Question 3\n",
    "1. We need to deal with missing values for the column from Q1.\n",
    "2. We have two options: fill it with 0 or with the mean of this variable.\n",
    "3. Try both options. For each, train a linear regression model without regularization using the code from the lessons.\n",
    "4. For computing the mean, use the training only!\n",
    "5. Use the validation dataset to evaluate the models and compare the RMSE of each option.\n",
    "6. Round the RMSE scores to 2 decimal digits using round(score, 2)\n",
    "\n",
    "Which option gives better RMSE?\n",
    "Options:\n",
    "\n",
    "1. With 0\n",
    "2. With mean\n",
    "3. Both are equally good"
   ]
  },
  {
   "cell_type": "code",
   "execution_count": 318,
   "id": "a6636407",
   "metadata": {},
   "outputs": [],
   "source": [
    "mean_tbd = df_train['total_bedrooms'].mean()"
   ]
  },
  {
   "cell_type": "code",
   "execution_count": 319,
   "id": "3703492e",
   "metadata": {},
   "outputs": [
    {
     "data": {
      "text/plain": [
       "count    9319.000000\n",
       "mean      542.552956\n",
       "std       443.541176\n",
       "min         2.000000\n",
       "25%       294.000000\n",
       "50%       431.000000\n",
       "75%       646.000000\n",
       "max      6445.000000\n",
       "Name: total_bedrooms, dtype: float64"
      ]
     },
     "execution_count": 319,
     "metadata": {},
     "output_type": "execute_result"
    }
   ],
   "source": [
    "df_train.total_bedrooms.describe()"
   ]
  },
  {
   "cell_type": "code",
   "execution_count": 320,
   "id": "40db3a84",
   "metadata": {},
   "outputs": [
    {
     "data": {
      "text/plain": [
       "542.552956325786"
      ]
     },
     "execution_count": 320,
     "metadata": {},
     "output_type": "execute_result"
    }
   ],
   "source": [
    "mean_tbd"
   ]
  },
  {
   "cell_type": "code",
   "execution_count": 321,
   "id": "41ac2485",
   "metadata": {},
   "outputs": [],
   "source": [
    "def train_linear_regression(X, y):\n",
    "    ones = np.ones(X.shape[0])\n",
    "    X = np.column_stack([ones, X])\n",
    "\n",
    "    XTX = X.T.dot(X)\n",
    "    XTX_inv = np.linalg.inv(XTX)\n",
    "    w = XTX_inv.dot(X.T).dot(y)\n",
    "    \n",
    "    return w[0], w[1:]"
   ]
  },
  {
   "cell_type": "code",
   "execution_count": 322,
   "id": "defe4d84",
   "metadata": {},
   "outputs": [],
   "source": [
    "def rmse(y, y_pred):\n",
    "    error = y_pred - y\n",
    "    mse = (error ** 2).mean()\n",
    "    return np.sqrt(mse)"
   ]
  },
  {
   "cell_type": "code",
   "execution_count": 323,
   "id": "617d4dac",
   "metadata": {},
   "outputs": [],
   "source": [
    "base = ['latitude',\n",
    "'longitude',\n",
    "'housing_median_age',\n",
    "'total_rooms',\n",
    "'total_bedrooms',\n",
    "'population',\n",
    "'households',\n",
    "'median_income'\n",
    "]"
   ]
  },
  {
   "cell_type": "code",
   "execution_count": 324,
   "id": "b049969a",
   "metadata": {},
   "outputs": [],
   "source": [
    "def prepare_X(df):\n",
    "    df_num = df[base]\n",
    "    df_num = df_num.fillna(0)\n",
    "    X = df_num.values\n",
    "    return X"
   ]
  },
  {
   "cell_type": "code",
   "execution_count": 325,
   "id": "8cb45f73",
   "metadata": {},
   "outputs": [],
   "source": [
    "def fill_train_get_rmse(train_df, val_df, fill_val):\n",
    "    train_df['total_bedrooms'].fillna(fill_val, inplace=True)\n",
    "    print(train_df.isna().sum())\n",
    "    print(train_df.shape)\n",
    "    \n",
    "    x = prepare_X(train_df)\n",
    "    y = train_df['median_house_value'].values\n",
    "    print(x.shape, y.shape)\n",
    "    \n",
    "    const, weights = train_linear_regression(x, y)\n",
    "    print(const, weights)\n",
    "    y_pred = const + x.dot(weights)\n",
    "    \n",
    "#     sns.histplot(y_31, label='target', alpha=0.6, bins=40)\n",
    "#     sns.histplot(y_31_pred, label='prediction', alpha=0.8, bins=40)\n",
    "#     plt.legend()\n",
    "    \n",
    "#     train_rmse = rmse(y, y_pred)\n",
    "    \n",
    "    val_x = prepare_X(val_df)\n",
    "    val_y = val_df['median_house_value'].values\n",
    "    print(val_x.shape, val_y.shape)\n",
    "    \n",
    "    val_y_pred = const + val_x.dot(weights)\n",
    "    val_y_actual = np.expm1(val_y)\n",
    "    val_y_pred_actual = np.expm1(val_y_pred)\n",
    "    \n",
    "    return rmse(val_y_actual, val_y_pred_actual)"
   ]
  },
  {
   "cell_type": "code",
   "execution_count": 326,
   "id": "f565f8fc",
   "metadata": {},
   "outputs": [
    {
     "data": {
      "text/plain": [
       "count    9413.000000\n",
       "mean       12.015274\n",
       "std         0.564028\n",
       "min         9.615805\n",
       "25%        11.625370\n",
       "50%        12.033509\n",
       "75%        12.399586\n",
       "max        13.122367\n",
       "Name: median_house_value, dtype: float64"
      ]
     },
     "execution_count": 326,
     "metadata": {},
     "output_type": "execute_result"
    }
   ],
   "source": [
    "df_train.median_house_value.describe()"
   ]
  },
  {
   "cell_type": "code",
   "execution_count": 327,
   "id": "c94c2782",
   "metadata": {},
   "outputs": [
    {
     "data": {
      "text/plain": [
       "count    3137.000000\n",
       "mean       12.000232\n",
       "std         0.574142\n",
       "min         9.615805\n",
       "25%        11.600945\n",
       "50%        12.008847\n",
       "75%        12.386313\n",
       "max        13.122367\n",
       "Name: median_house_value, dtype: float64"
      ]
     },
     "execution_count": 327,
     "metadata": {},
     "output_type": "execute_result"
    }
   ],
   "source": [
    "df_val.median_house_value.describe()"
   ]
  },
  {
   "cell_type": "code",
   "execution_count": 328,
   "id": "f6d8bf2e",
   "metadata": {
    "scrolled": true
   },
   "outputs": [
    {
     "name": "stdout",
     "output_type": "stream",
     "text": [
      "latitude              0\n",
      "longitude             0\n",
      "housing_median_age    0\n",
      "total_rooms           0\n",
      "total_bedrooms        0\n",
      "population            0\n",
      "households            0\n",
      "median_income         0\n",
      "median_house_value    0\n",
      "dtype: int64\n",
      "(9413, 9)\n",
      "(9413, 8) (9413,)\n",
      "-9.763249477638546 [-2.68233309e-01 -2.55938802e-01  1.77710730e-03 -3.38393956e-05\n",
      "  2.93766352e-04 -1.52190447e-04  3.96908643e-04  1.80600946e-01]\n",
      "(3137, 8) (3137,)\n"
     ]
    },
    {
     "data": {
      "text/plain": [
       "92668.63"
      ]
     },
     "execution_count": 328,
     "metadata": {},
     "output_type": "execute_result"
    }
   ],
   "source": [
    "zero_fill_df = df_train.copy()\n",
    "zero_fill_val_df = df_val.copy()\n",
    "zero_fill_rmse = fill_train_get_rmse(zero_fill_df, zero_fill_val_df, 0)\n",
    "round(zero_fill_rmse, 2)"
   ]
  },
  {
   "cell_type": "code",
   "execution_count": 329,
   "id": "c778fa9f",
   "metadata": {},
   "outputs": [
    {
     "name": "stdout",
     "output_type": "stream",
     "text": [
      "latitude              0\n",
      "longitude             0\n",
      "housing_median_age    0\n",
      "total_rooms           0\n",
      "total_bedrooms        0\n",
      "population            0\n",
      "households            0\n",
      "median_income         0\n",
      "median_house_value    0\n",
      "dtype: int64\n",
      "(9413, 9)\n",
      "(9413, 8) (9413,)\n",
      "-9.886133216127304 [-2.68652914e-01 -2.57026361e-01  1.79880767e-03 -3.87631029e-05\n",
      "  3.78806885e-04 -1.49641599e-04  3.25344392e-04  1.81951358e-01]\n",
      "(3137, 8) (3137,)\n"
     ]
    },
    {
     "data": {
      "text/plain": [
       "93640.74"
      ]
     },
     "execution_count": 329,
     "metadata": {},
     "output_type": "execute_result"
    }
   ],
   "source": [
    "mean_fill_df = df_train.copy()\n",
    "mean_fill_val_df = df_val.copy()\n",
    "mean_fill_rmse = fill_train_get_rmse(mean_fill_df, mean_fill_val_df, mean_tbd)\n",
    "round(mean_fill_rmse, 2)"
   ]
  },
  {
   "cell_type": "markdown",
   "id": "aeec7e70",
   "metadata": {},
   "source": [
    "**Answer:** Both are equally good"
   ]
  },
  {
   "cell_type": "markdown",
   "id": "fa5bac7f",
   "metadata": {},
   "source": [
    "### Question 4\n",
    "\n",
    "1. Now let's train a regularized linear regression.\n",
    "2. For this question, fill the NAs with 0.\n",
    "3. Try different values of r from this list: [0, 0.000001, 0.0001, 0.001, 0.01, 0.1, 1, 5, 10].\n",
    "4. Use RMSE to evaluate the model on the validation dataset.\n",
    "5. Round the RMSE scores to 2 decimal digits.\n",
    "6. Which r gives the best RMSE?\n",
    "7. If there are multiple options, select the smallest r.\n",
    "\n",
    "Options:\n",
    "\n",
    "    0\n",
    "    0.000001\n",
    "    0.001\n",
    "    0.0001"
   ]
  },
  {
   "cell_type": "code",
   "execution_count": 330,
   "id": "18086d8b",
   "metadata": {},
   "outputs": [],
   "source": [
    "def train_linear_regression_reg(X, y, r=0.0):\n",
    "    ones = np.ones(X.shape[0])\n",
    "    X = np.column_stack([ones, X])\n",
    "\n",
    "    XTX = X.T.dot(X)\n",
    "    reg = r * np.eye(XTX.shape[0])\n",
    "    XTX = XTX + reg\n",
    "\n",
    "    XTX_inv = np.linalg.inv(XTX)\n",
    "    w = XTX_inv.dot(X.T).dot(y)\n",
    "    \n",
    "    return w[0], w[1:]"
   ]
  },
  {
   "cell_type": "code",
   "execution_count": 331,
   "id": "b087fc4f",
   "metadata": {},
   "outputs": [],
   "source": [
    "reg_rmse_dict = {}"
   ]
  },
  {
   "cell_type": "code",
   "execution_count": 332,
   "id": "3a4fb5e2",
   "metadata": {},
   "outputs": [
    {
     "name": "stdout",
     "output_type": "stream",
     "text": [
      "-9.763249477638546 [-2.68233309e-01 -2.55938802e-01  1.77710730e-03 -3.38393956e-05\n",
      "  2.93766352e-04 -1.52190447e-04  3.96908643e-04  1.80600946e-01]\n",
      "(3137, 8) (3137,)\n",
      "-9.76322883076761 [-2.68233130e-01 -2.55938574e-01  1.77710920e-03 -3.38394344e-05\n",
      "  2.93766187e-04 -1.52190443e-04  3.96909047e-04  1.80600973e-01]\n",
      "(3137, 8) (3137,)\n",
      "-9.761185235494285 [-2.68215347e-01 -2.55916002e-01  1.77729760e-03 -3.38432775e-05\n",
      "  2.93749821e-04 -1.52190058e-04  3.96948960e-04  1.80603655e-01]\n",
      "(3137, 8) (3137,)\n",
      "-9.742646249238598 [-2.68054028e-01 -2.55711238e-01  1.77900669e-03 -3.38781406e-05\n",
      "  2.93601353e-04 -1.52186566e-04  3.97311043e-04  1.80627981e-01]\n",
      "(3137, 8) (3137,)\n",
      "-9.561056192626364 [-2.66473898e-01 -2.53705567e-01  1.79574734e-03 -3.42196251e-05\n",
      "  2.92147094e-04 -1.52152368e-04  4.00857666e-04  1.80866259e-01]\n",
      "(3137, 8) (3137,)\n",
      "-8.05888976905374 [-2.53402467e-01 -2.37114022e-01  1.93423469e-03 -3.70443987e-05\n",
      "  2.80116566e-04 -1.51869463e-04  4.30196518e-04  1.82837279e-01]\n",
      "(3137, 8) (3137,)\n",
      "-3.1331542783425093 [-2.10534907e-01 -1.82707399e-01  2.38849258e-03 -4.63036941e-05\n",
      "  2.40649199e-04 -1.50941748e-04  5.26406797e-04  1.89297124e-01]\n",
      "(3137, 8) (3137,)\n",
      "-0.8410867975245598 [-1.90556850e-01 -1.57381817e-01  2.60073253e-03 -5.05922365e-05\n",
      "  2.22176244e-04 -1.50509783e-04  5.71209036e-04  1.92283489e-01]\n",
      "(3137, 8) (3137,)\n",
      "-0.4381172315887052 [-1.87007665e-01 -1.52918732e-01  2.63908083e-03 -5.13221688e-05\n",
      "  2.18799188e-04 -1.50433511e-04  5.79125557e-04  1.92785059e-01]\n",
      "(3137, 8) (3137,)\n"
     ]
    }
   ],
   "source": [
    "for r in [0, 0.000001, 0.0001, 0.001, 0.01, 0.1, 1, 5, 10]:\n",
    "    train_df = df_train.copy()\n",
    "    train_df.fillna(0, inplace=True)\n",
    "\n",
    "    x = prepare_X(train_df)\n",
    "    y = train_df['median_house_value'].values\n",
    "    const, weights = train_linear_regression_reg(x, y, r)\n",
    "    print(const, weights)\n",
    "    y_pred = const + x.dot(weights)\n",
    "    \n",
    "    val_df = df_val.copy()\n",
    "    val_df.fillna(0, inplace=True)\n",
    "    val_x = prepare_X(val_df)\n",
    "    val_y = val_df['median_house_value'].values\n",
    "    print(val_x.shape, val_y.shape)\n",
    "    \n",
    "    val_y_pred = const + val_x.dot(weights)\n",
    "    val_y_actual = np.expm1(val_y)\n",
    "    val_y_pred_actual = np.expm1(val_y_pred)\n",
    "    \n",
    "    reg_rmse_dict[\"%s\" % r] = round(rmse(val_y_actual, val_y_pred_actual), 2)"
   ]
  },
  {
   "cell_type": "code",
   "execution_count": 333,
   "id": "a80c3b65",
   "metadata": {
    "scrolled": true
   },
   "outputs": [
    {
     "data": {
      "text/plain": [
       "{'0': 92668.63,\n",
       " '1e-06': 92668.64,\n",
       " '0.0001': 92669.97,\n",
       " '0.001': 92682.08,\n",
       " '0.01': 92801.3,\n",
       " '0.1': 93834.32,\n",
       " '1': 97782.69,\n",
       " '5': 99882.5,\n",
       " '10': 100248.04}"
      ]
     },
     "execution_count": 333,
     "metadata": {},
     "output_type": "execute_result"
    }
   ],
   "source": [
    "reg_rmse_dict"
   ]
  },
  {
   "cell_type": "markdown",
   "id": "0ecebadc",
   "metadata": {},
   "source": [
    "**Answer:** 0 "
   ]
  },
  {
   "cell_type": "markdown",
   "id": "89aeae45",
   "metadata": {},
   "source": [
    "### Question 5\n",
    "1. We used seed 42 for splitting the data. Let's find out how selecting the seed influences our score.\n",
    "2. Try different seed values: [0, 1, 2, 3, 4, 5, 6, 7, 8, 9].\n",
    "3. For each seed, do the train/validation/test split with 60%/20%/20% distribution.\n",
    "4. Fill the missing values with 0 and train a model without regularization.\n",
    "5. For each seed, evaluate the model on the validation dataset and collect the RMSE scores.\n",
    "6. What's the standard deviation of all the scores? To compute the standard deviation, use np.std.\n",
    "7. Round the result to 3 decimal digits (round(std, 3))\n",
    "8. What's the value of std?\n",
    "\n",
    "\n",
    "    0.5\n",
    "    \n",
    "    0.05\n",
    "    \n",
    "    0.005\n",
    "    \n",
    "    0.0005\n",
    "\n",
    "**Note:** Standard deviation shows how different the values are. If it's low, then all values are approximately the same. If it's high, the values are different. If standard deviation of scores is low, then our model is stable."
   ]
  },
  {
   "cell_type": "code",
   "execution_count": 334,
   "id": "5dc3614b",
   "metadata": {},
   "outputs": [],
   "source": [
    "seed_score_dict = {}"
   ]
  },
  {
   "cell_type": "code",
   "execution_count": 335,
   "id": "c68ea5c3",
   "metadata": {},
   "outputs": [],
   "source": [
    "def train_get_rmse(train_df, val_df):\n",
    "    print(train_df.shape)\n",
    "    \n",
    "    x = prepare_X(train_df)\n",
    "    y = train_df['median_house_value'].values\n",
    "    print(x.shape, y.shape)\n",
    "    \n",
    "    const, weights = train_linear_regression(x, y)\n",
    "    print(const, weights)\n",
    "    y_pred = const + x.dot(weights)\n",
    "    \n",
    "    val_x = prepare_X(val_df)\n",
    "    val_y = val_df['median_house_value'].values\n",
    "    print(val_x.shape, val_y.shape)\n",
    "    \n",
    "    val_y_pred = const + val_x.dot(weights)\n",
    "    val_y_actual = np.expm1(val_y)\n",
    "    val_y_pred_actual = np.expm1(val_y_pred)\n",
    "    \n",
    "    return rmse(val_y_actual, val_y_pred_actual)"
   ]
  },
  {
   "cell_type": "code",
   "execution_count": 336,
   "id": "f55031a4",
   "metadata": {
    "scrolled": true
   },
   "outputs": [
    {
     "name": "stdout",
     "output_type": "stream",
     "text": [
      "(9413, 9)\n",
      "(9413, 8) (9413,)\n",
      "-9.870068971558034 [-2.71538872e-01 -2.57905892e-01  1.43874092e-03 -3.28506955e-05\n",
      "  2.74955467e-04 -1.50515777e-04  4.07441495e-04  1.79439347e-01]\n",
      "(3137, 8) (3137,)\n",
      "(9413, 9)\n",
      "(9413, 8) (9413,)\n",
      "-9.114011210006403 [-2.67111799e-01 -2.50366564e-01  1.68367550e-03 -2.17079992e-05\n",
      "  2.74621608e-04 -2.07918083e-04  4.81989214e-04  1.78044406e-01]\n",
      "(3137, 8) (3137,)\n",
      "(9413, 9)\n",
      "(9413, 8) (9413,)\n",
      "-9.911560201543226 [-2.69914047e-01 -2.57559087e-01  1.92264005e-03 -3.40679630e-05\n",
      "  3.03040321e-04 -1.49763515e-04  3.88143978e-04  1.82156954e-01]\n",
      "(3137, 8) (3137,)\n",
      "(9413, 9)\n",
      "(9413, 8) (9413,)\n",
      "-10.233183681462807 [-2.73049563e-01 -2.61342089e-01  1.84153315e-03 -2.95482594e-05\n",
      "  2.64770777e-04 -1.48513120e-04  3.88427823e-04  1.79059417e-01]\n",
      "(3137, 8) (3137,)\n",
      "(9413, 9)\n",
      "(9413, 8) (9413,)\n",
      "-9.174763450447276 [-2.62029994e-01 -2.48890011e-01  2.27919844e-03 -3.57206479e-05\n",
      "  3.08606461e-04 -1.41923501e-04  3.59844023e-04  1.84951730e-01]\n",
      "(3137, 8) (3137,)\n",
      "(9413, 9)\n",
      "(9413, 8) (9413,)\n",
      "-10.006648303272843 [-2.72013099e-01 -2.59279840e-01  1.22123363e-03 -2.59405744e-05\n",
      "  2.80305812e-04 -1.49461193e-04  3.60332515e-04  1.77647259e-01]\n",
      "(3137, 8) (3137,)\n",
      "(9413, 9)\n",
      "(9413, 8) (9413,)\n",
      "-10.039903099244578 [-2.73446357e-01 -2.60221435e-01  1.33614985e-03 -1.50314980e-05\n",
      "  2.34763654e-04 -1.91715183e-04  4.49718312e-04  1.73884831e-01]\n",
      "(3137, 8) (3137,)\n",
      "(9413, 9)\n",
      "(9413, 8) (9413,)\n",
      "-10.353545445045171 [-2.77032017e-01 -2.63624961e-01  2.08506336e-03 -2.27483705e-05\n",
      "  2.34412298e-04 -1.77553182e-04  4.62540343e-04  1.76286480e-01]\n",
      "(3137, 8) (3137,)\n",
      "(9413, 9)\n",
      "(9413, 8) (9413,)\n",
      "-9.89941616663892 [-2.67264985e-01 -2.56629298e-01  1.92032032e-03 -3.48637469e-05\n",
      "  3.34599664e-04 -1.53436317e-04  3.72125872e-04  1.83380350e-01]\n",
      "(3137, 8) (3137,)\n",
      "(9413, 9)\n",
      "(9413, 8) (9413,)\n",
      "-9.964622126423397 [-2.68361281e-01 -2.57655208e-01  1.69433286e-03 -3.31184608e-05\n",
      "  2.74217401e-04 -1.54140965e-04  4.20781495e-04  1.80159179e-01]\n",
      "(3137, 8) (3137,)\n"
     ]
    }
   ],
   "source": [
    "for seed in [0, 1, 2, 3, 4, 5, 6, 7, 8, 9]:\n",
    "    np.random.seed(seed)\n",
    "    \n",
    "    n = len(df)\n",
    "\n",
    "    n_val = int(0.2 * n)\n",
    "    n_test = int(0.2 * n)\n",
    "    n_train = n - (n_val + n_test)\n",
    "    \n",
    "    idx = np.arange(n)\n",
    "    np.random.shuffle(idx)\n",
    "\n",
    "    df_s = df.fillna(0)\n",
    "    df_shuffled = df_s.iloc[idx]\n",
    "    \n",
    "    df_train = df_shuffled.iloc[:n_train].copy()\n",
    "    df_val = df_shuffled.iloc[n_train:n_train+n_val].copy()\n",
    "    df_test = df_shuffled.iloc[n_train+n_val:].copy()\n",
    "    \n",
    "    rmse_val = train_get_rmse(df_train, df_val)\n",
    "    seed_score_dict[seed] = rmse_val"
   ]
  },
  {
   "cell_type": "code",
   "execution_count": 337,
   "id": "0b916ae0",
   "metadata": {
    "scrolled": true
   },
   "outputs": [
    {
     "data": {
      "text/plain": [
       "{0: 79324.59004769362,\n",
       " 1: 88606.9655931196,\n",
       " 2: 80255.80975484001,\n",
       " 3: 84296.25991061829,\n",
       " 4: 96310.06458068211,\n",
       " 5: 81287.58966231822,\n",
       " 6: 78620.86086462747,\n",
       " 7: 77950.99598432939,\n",
       " 8: 96180.49012265273,\n",
       " 9: 78004.60334557778}"
      ]
     },
     "execution_count": 337,
     "metadata": {},
     "output_type": "execute_result"
    }
   ],
   "source": [
    "seed_score_dict"
   ]
  },
  {
   "cell_type": "code",
   "execution_count": 296,
   "id": "32e0b49f",
   "metadata": {},
   "outputs": [],
   "source": [
    "score_arr = np.array(list(seed_score_dict.values()))"
   ]
  },
  {
   "cell_type": "code",
   "execution_count": 297,
   "id": "d0bc723d",
   "metadata": {},
   "outputs": [
    {
     "data": {
      "text/plain": [
       "array([79324.59004769, 88606.96559312, 80255.80975484, 84296.25991062,\n",
       "       96310.06458068, 81287.58966232, 78620.86086463, 77950.99598433,\n",
       "       96180.49012265, 78004.60334558])"
      ]
     },
     "execution_count": 297,
     "metadata": {},
     "output_type": "execute_result"
    }
   ],
   "source": [
    "score_arr"
   ]
  },
  {
   "cell_type": "code",
   "execution_count": 298,
   "id": "c1526ad7",
   "metadata": {},
   "outputs": [
    {
     "data": {
      "text/plain": [
       "6825.317763340564"
      ]
     },
     "execution_count": 298,
     "metadata": {},
     "output_type": "execute_result"
    }
   ],
   "source": [
    "np.std(score_arr)"
   ]
  },
  {
   "cell_type": "code",
   "execution_count": 299,
   "id": "abcb599b",
   "metadata": {},
   "outputs": [
    {
     "data": {
      "text/plain": [
       "6825.318"
      ]
     },
     "execution_count": 299,
     "metadata": {},
     "output_type": "execute_result"
    }
   ],
   "source": [
    "round(np.std(score_arr), 3)"
   ]
  },
  {
   "cell_type": "markdown",
   "id": "047fb278",
   "metadata": {},
   "source": [
    "Question 6\n",
    "Split the dataset like previously, use seed 9.\n",
    "Combine train and validation datasets.\n",
    "Fill the missing values with 0 and train a model with r=0.001.\n",
    "What's the RMSE on the test dataset?\n",
    "Options:\n",
    "\n",
    "0.13\n",
    "0.23\n",
    "0.33\n",
    "0.43\n"
   ]
  },
  {
   "cell_type": "code",
   "execution_count": null,
   "id": "428e5877",
   "metadata": {},
   "outputs": [],
   "source": []
  }
 ],
 "metadata": {
  "kernelspec": {
   "display_name": "Python 3 (ipykernel)",
   "language": "python",
   "name": "python3"
  },
  "language_info": {
   "codemirror_mode": {
    "name": "ipython",
    "version": 3
   },
   "file_extension": ".py",
   "mimetype": "text/x-python",
   "name": "python",
   "nbconvert_exporter": "python",
   "pygments_lexer": "ipython3",
   "version": "3.11.5"
  }
 },
 "nbformat": 4,
 "nbformat_minor": 5
}
